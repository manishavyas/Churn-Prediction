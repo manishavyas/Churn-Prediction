{
 "cells": [
  {
   "cell_type": "markdown",
   "metadata": {},
   "source": [
    "##### Exploratory Data Analysis - 'members_v3.csv'\n",
    "\n",
    "What we already know:\n",
    "\n",
    "###### members.csv\n",
    "\n",
    "User Information. \n",
    "\n",
    "Note that not every user in the dataset is available.\n",
    "\n",
    "- msno: user id\n",
    "\n",
    "- city\n",
    "\n",
    "- bd: age (Note: This column has outlier values ranging from -7000 to 2015, please use your judgement.)\n",
    "\n",
    "- gender\n",
    "\n",
    "- registered_via: registration method\n",
    "\n",
    "- registration_init_time: format %Y%m%d\n",
    "\n",
    "- (removed) expiration_date: format %Y%m%d, taken as a snapshot at which the member.csv is extracted. Not representing the actual churn behavior.\n",
    "\n",
    "###### members_v3.csv\n",
    "\n",
    "Refreshed 11/13/2017, replaces members.csv data with the expiration date data removed."
   ]
  },
  {
   "cell_type": "code",
   "execution_count": 1,
   "metadata": {},
   "outputs": [],
   "source": [
    "# import libraries\n",
    "\n",
    "import numpy as np\n",
    "import pandas as pd\n",
    "import datetime as dt\n",
    "\n",
    "import matplotlib.pyplot as plt\n",
    "plt.style.use('ggplot')\n"
   ]
  },
  {
   "cell_type": "code",
   "execution_count": 2,
   "metadata": {},
   "outputs": [],
   "source": [
    "# import the data\n",
    "\n",
    "members_df = pd.read_csv(\"members_v3.csv\")"
   ]
  },
  {
   "cell_type": "code",
   "execution_count": 3,
   "metadata": {},
   "outputs": [
    {
     "data": {
      "text/html": [
       "<div>\n",
       "<style scoped>\n",
       "    .dataframe tbody tr th:only-of-type {\n",
       "        vertical-align: middle;\n",
       "    }\n",
       "\n",
       "    .dataframe tbody tr th {\n",
       "        vertical-align: top;\n",
       "    }\n",
       "\n",
       "    .dataframe thead th {\n",
       "        text-align: right;\n",
       "    }\n",
       "</style>\n",
       "<table border=\"1\" class=\"dataframe\">\n",
       "  <thead>\n",
       "    <tr style=\"text-align: right;\">\n",
       "      <th></th>\n",
       "      <th>msno</th>\n",
       "      <th>city</th>\n",
       "      <th>bd</th>\n",
       "      <th>gender</th>\n",
       "      <th>registered_via</th>\n",
       "      <th>registration_init_time</th>\n",
       "    </tr>\n",
       "  </thead>\n",
       "  <tbody>\n",
       "    <tr>\n",
       "      <th>0</th>\n",
       "      <td>Rb9UwLQTrxzBVwCB6+bCcSQWZ9JiNLC9dXtM1oEsZA8=</td>\n",
       "      <td>1</td>\n",
       "      <td>0</td>\n",
       "      <td>NaN</td>\n",
       "      <td>11</td>\n",
       "      <td>20110911</td>\n",
       "    </tr>\n",
       "    <tr>\n",
       "      <th>1</th>\n",
       "      <td>+tJonkh+O1CA796Fm5X60UMOtB6POHAwPjbTRVl/EuU=</td>\n",
       "      <td>1</td>\n",
       "      <td>0</td>\n",
       "      <td>NaN</td>\n",
       "      <td>7</td>\n",
       "      <td>20110914</td>\n",
       "    </tr>\n",
       "    <tr>\n",
       "      <th>2</th>\n",
       "      <td>cV358ssn7a0f7jZOwGNWS07wCKVqxyiImJUX6xcIwKw=</td>\n",
       "      <td>1</td>\n",
       "      <td>0</td>\n",
       "      <td>NaN</td>\n",
       "      <td>11</td>\n",
       "      <td>20110915</td>\n",
       "    </tr>\n",
       "    <tr>\n",
       "      <th>3</th>\n",
       "      <td>9bzDeJP6sQodK73K5CBlJ6fgIQzPeLnRl0p5B77XP+g=</td>\n",
       "      <td>1</td>\n",
       "      <td>0</td>\n",
       "      <td>NaN</td>\n",
       "      <td>11</td>\n",
       "      <td>20110915</td>\n",
       "    </tr>\n",
       "    <tr>\n",
       "      <th>4</th>\n",
       "      <td>WFLY3s7z4EZsieHCt63XrsdtfTEmJ+2PnnKLH5GY4Tk=</td>\n",
       "      <td>6</td>\n",
       "      <td>32</td>\n",
       "      <td>female</td>\n",
       "      <td>9</td>\n",
       "      <td>20110915</td>\n",
       "    </tr>\n",
       "    <tr>\n",
       "      <th>5</th>\n",
       "      <td>yLkV2gbZ4GLFwqTOXLVHz0VGrMYcgBGgKZ3kj9RiYu8=</td>\n",
       "      <td>4</td>\n",
       "      <td>30</td>\n",
       "      <td>male</td>\n",
       "      <td>9</td>\n",
       "      <td>20110916</td>\n",
       "    </tr>\n",
       "    <tr>\n",
       "      <th>6</th>\n",
       "      <td>jNCGK78YkTyId3H3wFavcBLDmz7pfqlvCfUKf4G1Lw4=</td>\n",
       "      <td>1</td>\n",
       "      <td>0</td>\n",
       "      <td>NaN</td>\n",
       "      <td>7</td>\n",
       "      <td>20110916</td>\n",
       "    </tr>\n",
       "    <tr>\n",
       "      <th>7</th>\n",
       "      <td>WH5Jq4mgtfUFXh2yz+HrcTXKS4Oess4k4W3qKolAeb0=</td>\n",
       "      <td>5</td>\n",
       "      <td>34</td>\n",
       "      <td>male</td>\n",
       "      <td>9</td>\n",
       "      <td>20110916</td>\n",
       "    </tr>\n",
       "    <tr>\n",
       "      <th>8</th>\n",
       "      <td>tKmbR4X5VXjHmxERrckawEMZ4znVy1lAQIR1vV5rdNk=</td>\n",
       "      <td>5</td>\n",
       "      <td>19</td>\n",
       "      <td>male</td>\n",
       "      <td>9</td>\n",
       "      <td>20110917</td>\n",
       "    </tr>\n",
       "    <tr>\n",
       "      <th>9</th>\n",
       "      <td>I0yFvqMoNkM8ZNHb617e1RBzIS/YRKemHO7Wj13EtA0=</td>\n",
       "      <td>13</td>\n",
       "      <td>63</td>\n",
       "      <td>male</td>\n",
       "      <td>9</td>\n",
       "      <td>20110918</td>\n",
       "    </tr>\n",
       "    <tr>\n",
       "      <th>10</th>\n",
       "      <td>OoDwiKZM+ZGr9P3fRivavgOtglTEaNfWJO4KaJcTTts=</td>\n",
       "      <td>1</td>\n",
       "      <td>0</td>\n",
       "      <td>NaN</td>\n",
       "      <td>7</td>\n",
       "      <td>20110918</td>\n",
       "    </tr>\n",
       "    <tr>\n",
       "      <th>11</th>\n",
       "      <td>dCvvBHlaOAqgkAcv36IZ9twaCyH0Z9om0wEiKn13B3o=</td>\n",
       "      <td>22</td>\n",
       "      <td>18</td>\n",
       "      <td>male</td>\n",
       "      <td>9</td>\n",
       "      <td>20110919</td>\n",
       "    </tr>\n",
       "    <tr>\n",
       "      <th>12</th>\n",
       "      <td>6bra2AiVV8SGlm7R6mp97Ot5jU9FBH2/8JaRk0iaKco=</td>\n",
       "      <td>4</td>\n",
       "      <td>34</td>\n",
       "      <td>female</td>\n",
       "      <td>9</td>\n",
       "      <td>20110919</td>\n",
       "    </tr>\n",
       "    <tr>\n",
       "      <th>13</th>\n",
       "      <td>4De1jAxNRABoyRBDZ82U0yEmzYkqeOugRGVNIf92Xb8=</td>\n",
       "      <td>4</td>\n",
       "      <td>28</td>\n",
       "      <td>female</td>\n",
       "      <td>9</td>\n",
       "      <td>20110920</td>\n",
       "    </tr>\n",
       "    <tr>\n",
       "      <th>14</th>\n",
       "      <td>iOzdu4IHbJxhB5CPpiQsZcGdptCm7OLwWm1Ci6oHLSE=</td>\n",
       "      <td>12</td>\n",
       "      <td>29</td>\n",
       "      <td>female</td>\n",
       "      <td>9</td>\n",
       "      <td>20110922</td>\n",
       "    </tr>\n",
       "    <tr>\n",
       "      <th>15</th>\n",
       "      <td>hZia/3iyvtThD1kv6ozRjRj8T0CAz0+zUFxs3e27wo8=</td>\n",
       "      <td>1</td>\n",
       "      <td>0</td>\n",
       "      <td>NaN</td>\n",
       "      <td>9</td>\n",
       "      <td>20110922</td>\n",
       "    </tr>\n",
       "    <tr>\n",
       "      <th>16</th>\n",
       "      <td>QlDflP89J5KChheo2sbtH++SSDY/hUDj54gkgdfE76U=</td>\n",
       "      <td>1</td>\n",
       "      <td>0</td>\n",
       "      <td>NaN</td>\n",
       "      <td>9</td>\n",
       "      <td>20110922</td>\n",
       "    </tr>\n",
       "    <tr>\n",
       "      <th>17</th>\n",
       "      <td>fOpj0ApSXk1NVODvC5db5Tvm/1G6exXxgTiCwTqvQn0=</td>\n",
       "      <td>13</td>\n",
       "      <td>31</td>\n",
       "      <td>female</td>\n",
       "      <td>7</td>\n",
       "      <td>20110923</td>\n",
       "    </tr>\n",
       "    <tr>\n",
       "      <th>18</th>\n",
       "      <td>GsPgdrXoV6688/0RFAwjKxQUpBB28JxK/Nx45kEpH60=</td>\n",
       "      <td>1</td>\n",
       "      <td>0</td>\n",
       "      <td>NaN</td>\n",
       "      <td>7</td>\n",
       "      <td>20110924</td>\n",
       "    </tr>\n",
       "    <tr>\n",
       "      <th>19</th>\n",
       "      <td>QHHKGOY5yLrGdR8WYb0JtdJTP36Ii1QP3QTXxjEpGLk=</td>\n",
       "      <td>5</td>\n",
       "      <td>19</td>\n",
       "      <td>female</td>\n",
       "      <td>9</td>\n",
       "      <td>20110925</td>\n",
       "    </tr>\n",
       "    <tr>\n",
       "      <th>20</th>\n",
       "      <td>SpiCVwYrNY2XIpPpZkHHq4LDTfYyPNxBx7e+klc19H4=</td>\n",
       "      <td>15</td>\n",
       "      <td>22</td>\n",
       "      <td>female</td>\n",
       "      <td>9</td>\n",
       "      <td>20110925</td>\n",
       "    </tr>\n",
       "    <tr>\n",
       "      <th>21</th>\n",
       "      <td>+N2Na8js4BYLhkDXYD94o/5Tn5j1yi9u/+6F8an1MUs=</td>\n",
       "      <td>4</td>\n",
       "      <td>23</td>\n",
       "      <td>male</td>\n",
       "      <td>9</td>\n",
       "      <td>20110925</td>\n",
       "    </tr>\n",
       "    <tr>\n",
       "      <th>22</th>\n",
       "      <td>F6F2FJSHqQ/TLf7fQHJe1nbonEZmrCHtzG87U8VD9rE=</td>\n",
       "      <td>11</td>\n",
       "      <td>22</td>\n",
       "      <td>female</td>\n",
       "      <td>9</td>\n",
       "      <td>20110925</td>\n",
       "    </tr>\n",
       "    <tr>\n",
       "      <th>23</th>\n",
       "      <td>FotY8kXSC6tIyCuVn0NoaXjo0Hd854wuoNMWuwHaLIA=</td>\n",
       "      <td>5</td>\n",
       "      <td>29</td>\n",
       "      <td>male</td>\n",
       "      <td>9</td>\n",
       "      <td>20110926</td>\n",
       "    </tr>\n",
       "    <tr>\n",
       "      <th>24</th>\n",
       "      <td>glvtik6LgKzz/VHI8f7dAAHW4iqU8azER8mEsImDe78=</td>\n",
       "      <td>9</td>\n",
       "      <td>21</td>\n",
       "      <td>male</td>\n",
       "      <td>9</td>\n",
       "      <td>20110926</td>\n",
       "    </tr>\n",
       "  </tbody>\n",
       "</table>\n",
       "</div>"
      ],
      "text/plain": [
       "                                            msno  city  bd  gender  \\\n",
       "0   Rb9UwLQTrxzBVwCB6+bCcSQWZ9JiNLC9dXtM1oEsZA8=     1   0     NaN   \n",
       "1   +tJonkh+O1CA796Fm5X60UMOtB6POHAwPjbTRVl/EuU=     1   0     NaN   \n",
       "2   cV358ssn7a0f7jZOwGNWS07wCKVqxyiImJUX6xcIwKw=     1   0     NaN   \n",
       "3   9bzDeJP6sQodK73K5CBlJ6fgIQzPeLnRl0p5B77XP+g=     1   0     NaN   \n",
       "4   WFLY3s7z4EZsieHCt63XrsdtfTEmJ+2PnnKLH5GY4Tk=     6  32  female   \n",
       "5   yLkV2gbZ4GLFwqTOXLVHz0VGrMYcgBGgKZ3kj9RiYu8=     4  30    male   \n",
       "6   jNCGK78YkTyId3H3wFavcBLDmz7pfqlvCfUKf4G1Lw4=     1   0     NaN   \n",
       "7   WH5Jq4mgtfUFXh2yz+HrcTXKS4Oess4k4W3qKolAeb0=     5  34    male   \n",
       "8   tKmbR4X5VXjHmxERrckawEMZ4znVy1lAQIR1vV5rdNk=     5  19    male   \n",
       "9   I0yFvqMoNkM8ZNHb617e1RBzIS/YRKemHO7Wj13EtA0=    13  63    male   \n",
       "10  OoDwiKZM+ZGr9P3fRivavgOtglTEaNfWJO4KaJcTTts=     1   0     NaN   \n",
       "11  dCvvBHlaOAqgkAcv36IZ9twaCyH0Z9om0wEiKn13B3o=    22  18    male   \n",
       "12  6bra2AiVV8SGlm7R6mp97Ot5jU9FBH2/8JaRk0iaKco=     4  34  female   \n",
       "13  4De1jAxNRABoyRBDZ82U0yEmzYkqeOugRGVNIf92Xb8=     4  28  female   \n",
       "14  iOzdu4IHbJxhB5CPpiQsZcGdptCm7OLwWm1Ci6oHLSE=    12  29  female   \n",
       "15  hZia/3iyvtThD1kv6ozRjRj8T0CAz0+zUFxs3e27wo8=     1   0     NaN   \n",
       "16  QlDflP89J5KChheo2sbtH++SSDY/hUDj54gkgdfE76U=     1   0     NaN   \n",
       "17  fOpj0ApSXk1NVODvC5db5Tvm/1G6exXxgTiCwTqvQn0=    13  31  female   \n",
       "18  GsPgdrXoV6688/0RFAwjKxQUpBB28JxK/Nx45kEpH60=     1   0     NaN   \n",
       "19  QHHKGOY5yLrGdR8WYb0JtdJTP36Ii1QP3QTXxjEpGLk=     5  19  female   \n",
       "20  SpiCVwYrNY2XIpPpZkHHq4LDTfYyPNxBx7e+klc19H4=    15  22  female   \n",
       "21  +N2Na8js4BYLhkDXYD94o/5Tn5j1yi9u/+6F8an1MUs=     4  23    male   \n",
       "22  F6F2FJSHqQ/TLf7fQHJe1nbonEZmrCHtzG87U8VD9rE=    11  22  female   \n",
       "23  FotY8kXSC6tIyCuVn0NoaXjo0Hd854wuoNMWuwHaLIA=     5  29    male   \n",
       "24  glvtik6LgKzz/VHI8f7dAAHW4iqU8azER8mEsImDe78=     9  21    male   \n",
       "\n",
       "    registered_via  registration_init_time  \n",
       "0               11                20110911  \n",
       "1                7                20110914  \n",
       "2               11                20110915  \n",
       "3               11                20110915  \n",
       "4                9                20110915  \n",
       "5                9                20110916  \n",
       "6                7                20110916  \n",
       "7                9                20110916  \n",
       "8                9                20110917  \n",
       "9                9                20110918  \n",
       "10               7                20110918  \n",
       "11               9                20110919  \n",
       "12               9                20110919  \n",
       "13               9                20110920  \n",
       "14               9                20110922  \n",
       "15               9                20110922  \n",
       "16               9                20110922  \n",
       "17               7                20110923  \n",
       "18               7                20110924  \n",
       "19               9                20110925  \n",
       "20               9                20110925  \n",
       "21               9                20110925  \n",
       "22               9                20110925  \n",
       "23               9                20110926  \n",
       "24               9                20110926  "
      ]
     },
     "execution_count": 3,
     "metadata": {},
     "output_type": "execute_result"
    }
   ],
   "source": [
    "# explore the members_df\n",
    "\n",
    "members_df.head(25)"
   ]
  },
  {
   "cell_type": "code",
   "execution_count": 4,
   "metadata": {},
   "outputs": [
    {
     "data": {
      "text/plain": [
       "(6769473, 6)"
      ]
     },
     "execution_count": 4,
     "metadata": {},
     "output_type": "execute_result"
    }
   ],
   "source": [
    "# print the shape\n",
    "\n",
    "members_df.shape"
   ]
  },
  {
   "cell_type": "markdown",
   "metadata": {},
   "source": [
    "We observe that there are 6,769,473 observations in the members_v3.csv with 6 features for each observation."
   ]
  },
  {
   "cell_type": "code",
   "execution_count": 5,
   "metadata": {},
   "outputs": [
    {
     "name": "stdout",
     "output_type": "stream",
     "text": [
      "<class 'pandas.core.frame.DataFrame'>\n",
      "RangeIndex: 6769473 entries, 0 to 6769472\n",
      "Data columns (total 6 columns):\n",
      "msno                      object\n",
      "city                      int64\n",
      "bd                        int64\n",
      "gender                    object\n",
      "registered_via            int64\n",
      "registration_init_time    int64\n",
      "dtypes: int64(4), object(2)\n",
      "memory usage: 309.9+ MB\n"
     ]
    }
   ],
   "source": [
    "# get the info\n",
    "\n",
    "members_df.info()"
   ]
  },
  {
   "cell_type": "code",
   "execution_count": 6,
   "metadata": {},
   "outputs": [
    {
     "name": "stdout",
     "output_type": "stream",
     "text": [
      "Users, by city: \n",
      "\n",
      "city\n",
      "1     4804326\n",
      "3       27282\n",
      "4      246848\n",
      "5      385069\n",
      "6      135200\n",
      "7       11610\n",
      "8       45975\n",
      "9       47639\n",
      "10      32482\n",
      "11      47489\n",
      "12      66843\n",
      "13     320978\n",
      "14      89940\n",
      "15     190213\n",
      "16       5092\n",
      "17      27772\n",
      "18      38039\n",
      "19       1199\n",
      "20       4233\n",
      "21      30837\n",
      "22     210407\n",
      "Name: msno, dtype: int64\n",
      "\n",
      "Figure One - Users, by city: \n",
      "\n"
     ]
    },
    {
     "data": {
      "image/png": "[encoded data removed]",
      "text/plain": [
       "<matplotlib.figure.Figure at 0x24c2437e630>"
      ]
     },
     "metadata": {},
     "output_type": "display_data"
    }
   ],
   "source": [
    "# let's figure out the count by each 'city'\n",
    "\n",
    "print(\"Users, by city: \" + \"\\n\")\n",
    "by_city = members_df.groupby(['city'])['msno'].count()\n",
    "\n",
    "print(by_city)\n",
    "\n",
    "# plot the figure\n",
    "\n",
    "print(\"\\n\" + \"Figure One - Users, by city: \" + \"\\n\")\n",
    "\n",
    "plt.figure(figsize = (14, 10))\n",
    "plt.title('Users (by city)')\n",
    "plt.xlabel(\"City\")\n",
    "plt.ylabel(\"Frequency\")\n",
    "plt.bar(by_city.index, by_city.values)\n",
    "plt.show()"
   ]
  },
  {
   "cell_type": "markdown",
   "metadata": {},
   "source": [
    "We observe that most of the users belong to a single city denoted by '1'.\n",
    "\n",
    "'city' is a categorical variable."
   ]
  },
  {
   "cell_type": "code",
   "execution_count": 7,
   "metadata": {},
   "outputs": [
    {
     "name": "stdout",
     "output_type": "stream",
     "text": [
      "count    6.769473e+06\n",
      "mean     9.795794e+00\n",
      "std      1.792590e+01\n",
      "min     -7.168000e+03\n",
      "25%      0.000000e+00\n",
      "50%      0.000000e+00\n",
      "75%      2.100000e+01\n",
      "max      2.016000e+03\n",
      "Name: bd, dtype: float64\n",
      "bd\n",
      "-7168    1\n",
      "-6998    1\n",
      "-6807    1\n",
      "-6445    1\n",
      "-5978    1\n",
      "-3152    1\n",
      "-2828    1\n",
      "-1970    1\n",
      "-974     1\n",
      "-958     1\n",
      "-956     1\n",
      "-951     1\n",
      "-540     1\n",
      "-529     1\n",
      "-527     1\n",
      "-526     2\n",
      "-525     1\n",
      "-524     1\n",
      "-523     5\n",
      "-522     2\n",
      "-521     2\n",
      "-520     1\n",
      "-519     6\n",
      "-518     5\n",
      "-517     5\n",
      "-516     6\n",
      "-515     3\n",
      "-514     4\n",
      "-513     2\n",
      "-512     1\n",
      "        ..\n",
      " 1049    2\n",
      " 1050    1\n",
      " 1051    3\n",
      " 1052    4\n",
      " 1053    1\n",
      " 1056    1\n",
      " 1058    1\n",
      " 1061    1\n",
      " 1062    1\n",
      " 1064    1\n",
      " 1089    1\n",
      " 1111    1\n",
      " 1213    1\n",
      " 1309    1\n",
      " 1421    1\n",
      " 1501    1\n",
      " 1819    1\n",
      " 1820    2\n",
      " 1821    1\n",
      " 1937    1\n",
      " 1946    1\n",
      " 1949    1\n",
      " 1954    1\n",
      " 1958    1\n",
      " 1968    1\n",
      " 1970    1\n",
      " 2009    1\n",
      " 2011    2\n",
      " 2014    1\n",
      " 2016    1\n",
      "Name: bd, Length: 386, dtype: int64\n"
     ]
    }
   ],
   "source": [
    "# explore the members dataframe with respect to 'age'\n",
    "\n",
    "print(members_df.bd.describe())\n",
    "\n",
    "print(members_df.groupby(['bd'])['bd'].count())"
   ]
  },
  {
   "cell_type": "markdown",
   "metadata": {},
   "source": [
    "We observe that the feature 'bd' (age) has values that are unreasonable"
   ]
  },
  {
   "cell_type": "code",
   "execution_count": 8,
   "metadata": {},
   "outputs": [
    {
     "data": {
      "text/plain": [
       "(2223607, 6)"
      ]
     },
     "execution_count": 8,
     "metadata": {},
     "output_type": "execute_result"
    }
   ],
   "source": [
    "# remove the unreasonable values and explore\n",
    "\n",
    "members_corrected_age_df = members_df[np.logical_not(np.logical_or(members_df['bd'] <= 0, members_df['bd'] > 100))]\n",
    "\n",
    "# explore of the corrected_age members dataframe\n",
    "\n",
    "members_corrected_age_df.shape"
   ]
  },
  {
   "cell_type": "markdown",
   "metadata": {},
   "source": [
    "We observe that out of the 6,769,473 observations, only ~ 2,223,607 has reasonable (0 - 100] values for 'bd' (age)."
   ]
  },
  {
   "cell_type": "code",
   "execution_count": 9,
   "metadata": {},
   "outputs": [
    {
     "name": "stdout",
     "output_type": "stream",
     "text": [
      "Figure Two: Users, by age: \n",
      "\n"
     ]
    },
    {
     "data": {
      "image/png": "[encoded data removed]",
      "text/plain": [
       "<matplotlib.figure.Figure at 0x24c24c797f0>"
      ]
     },
     "metadata": {},
     "output_type": "display_data"
    }
   ],
   "source": [
    "# plot the histogram of users, by age\n",
    "\n",
    "print(\"Figure Two: Users, by age: \" + \"\\n\")\n",
    "\n",
    "plt.figure(figsize = (14, 10))\n",
    "plt.title(\"Users (by bd)\")\n",
    "plt.xlabel(\"Age\")\n",
    "plt.ylabel(\"Frequency\")\n",
    "plt.hist(members_corrected_age_df['bd'], bins = 20)\n",
    "plt.show()"
   ]
  },
  {
   "cell_type": "markdown",
   "metadata": {},
   "source": [
    "We observe that most of the users have the 'bd' (age) between ~ (16, 40)"
   ]
  },
  {
   "cell_type": "code",
   "execution_count": 10,
   "metadata": {},
   "outputs": [
    {
     "name": "stdout",
     "output_type": "stream",
     "text": [
      "gender\n",
      "female    1144613\n",
      "male      1195355\n",
      "Name: gender, dtype: int64\n",
      "\n",
      "Observations with 'NaN' or null values: \n",
      "\n",
      "4429505\n"
     ]
    }
   ],
   "source": [
    "# explore the members dataframe with respect to gender\n",
    "\n",
    "print(members_df.groupby('gender')['gender'].count())\n",
    "\n",
    "print(\"\\n\" + \"Observations with 'NaN' or null values: \" + \"\\n\")\n",
    "print(sum(members_df['gender'].isnull()))"
   ]
  },
  {
   "cell_type": "markdown",
   "metadata": {},
   "source": [
    "We observe that out of the 6,769,473 observations, 4,429,505 are without the 'gender' details.\n",
    "\n",
    "Furthermore, we see that we have equitable distribution between 'male' and 'female' observations where the value is not 'NaN'."
   ]
  },
  {
   "cell_type": "code",
   "execution_count": 11,
   "metadata": {},
   "outputs": [
    {
     "name": "stdout",
     "output_type": "stream",
     "text": [
      "registered_via\n",
      "-1           1\n",
      " 1          43\n",
      " 2        1452\n",
      " 3     1643208\n",
      " 4     2793213\n",
      " 5        3115\n",
      " 6        1213\n",
      " 7      805895\n",
      " 8        3982\n",
      " 9     1482863\n",
      " 10         10\n",
      " 11      25047\n",
      " 13       5455\n",
      " 14        615\n",
      " 16        888\n",
      " 17       1494\n",
      " 18          5\n",
      " 19        974\n",
      "Name: registered_via, dtype: int64\n",
      "\n",
      "Figure Three - Users, by registered_via: \n",
      "\n"
     ]
    },
    {
     "data": {
      "image/png": "[encoded data removed]",
      "text/plain": [
       "<matplotlib.figure.Figure at 0x24c24cc0780>"
      ]
     },
     "metadata": {},
     "output_type": "display_data"
    }
   ],
   "source": [
    "# explore the dataset with respect to 'registered_via' feature\n",
    "\n",
    "by_registered_via = members_df.groupby(['registered_via'])['registered_via'].count()\n",
    "\n",
    "print(by_registered_via)\n",
    "\n",
    "# plot the figure\n",
    "\n",
    "print(\"\\n\" + \"Figure Three - Users, by registered_via: \" + \"\\n\")\n",
    "\n",
    "plt.figure(figsize = (14, 10))\n",
    "plt.title('Users (by registered_via)')\n",
    "plt.xlabel(\"Registration Channel\")\n",
    "plt.ylabel(\"Frequency\")\n",
    "plt.bar(by_registered_via.index, by_registered_via.values)\n",
    "plt.show()"
   ]
  },
  {
   "cell_type": "markdown",
   "metadata": {},
   "source": [
    "We observe that we have ~ 17 different channels through which a user can register.\n",
    "\n",
    "Most of the users have registered via channels 3, 4, 7, and 9."
   ]
  },
  {
   "cell_type": "code",
   "execution_count": 12,
   "metadata": {},
   "outputs": [],
   "source": [
    "# explore the dataset with respect to registration_init_time feature\n",
    "\n",
    "members_df['registration_init_date'] = pd.to_datetime(members_df['registration_init_time'], format = '%Y%m%d')"
   ]
  },
  {
   "cell_type": "code",
   "execution_count": 13,
   "metadata": {},
   "outputs": [],
   "source": [
    "# plot the users by registration initial date\n",
    "\n",
    "by_initial_date = members_df.groupby(['registration_init_date'])['registration_init_date'].count()"
   ]
  },
  {
   "cell_type": "code",
   "execution_count": 14,
   "metadata": {},
   "outputs": [
    {
     "data": {
      "image/png": "[encoded data removed]",
      "text/plain": [
       "<matplotlib.figure.Figure at 0x24c24f73518>"
      ]
     },
     "metadata": {},
     "output_type": "display_data"
    }
   ],
   "source": [
    "plt.figure(figsize = (14, 10))\n",
    "plt.title(\"Users (by registration_init_time)\")\n",
    "plt.xlabel('Initial Registration Date')\n",
    "plt.ylabel('Frequency')\n",
    "plt.plot(by_initial_date.index, by_initial_date.values)\n",
    "plt.show()"
   ]
  },
  {
   "cell_type": "markdown",
   "metadata": {},
   "source": [
    "We observe an overall increasing trend in user registrations.\n",
    "\n",
    "We find that the increase in the registration was the highest ~ beginning of 2016, with decline ~ beginning of 2017."
   ]
  }
 ],
 "metadata": {
  "kernelspec": {
   "display_name": "Python 3",
   "language": "python",
   "name": "python3"
  },
  "language_info": {
   "codemirror_mode": {
    "name": "ipython",
    "version": 3
   },
   "file_extension": ".py",
   "mimetype": "text/x-python",
   "name": "python",
   "nbconvert_exporter": "python",
   "pygments_lexer": "ipython3",
   "version": "3.7.0"
  }
 },
 "nbformat": 4,
 "nbformat_minor": 2
}
