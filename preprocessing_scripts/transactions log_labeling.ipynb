{
 "cells": [
  {
   "cell_type": "code",
   "execution_count": 22,
   "metadata": {},
   "outputs": [],
   "source": [
    "import pandas as pd\n",
    "import numpy as np\n",
    "import datetime\n",
    "from tqdm import tqdm"
   ]
  },
  {
   "cell_type": "code",
   "execution_count": 32,
   "metadata": {},
   "outputs": [],
   "source": [
    "file1 = 'transactions.csv'\n",
    "trans_1 = pd.read_csv(file1)"
   ]
  },
  {
   "cell_type": "code",
   "execution_count": 33,
   "metadata": {},
   "outputs": [],
   "source": [
    "file2 = 'transactions_v2.csv'\n",
    "trans_2 = pd.read_csv(file2)"
   ]
  },
  {
   "cell_type": "code",
   "execution_count": 34,
   "metadata": {},
   "outputs": [],
   "source": [
    "trans = trans_1.append(trans_2).reset_index(drop=True)"
   ]
  },
  {
   "cell_type": "code",
   "execution_count": 35,
   "metadata": {},
   "outputs": [
    {
     "data": {
      "text/html": [
       "<div>\n",
       "<style>\n",
       "    .dataframe thead tr:only-child th {\n",
       "        text-align: right;\n",
       "    }\n",
       "\n",
       "    .dataframe thead th {\n",
       "        text-align: left;\n",
       "    }\n",
       "\n",
       "    .dataframe tbody tr th {\n",
       "        vertical-align: top;\n",
       "    }\n",
       "</style>\n",
       "<table border=\"1\" class=\"dataframe\">\n",
       "  <thead>\n",
       "    <tr style=\"text-align: right;\">\n",
       "      <th></th>\n",
       "      <th>msno</th>\n",
       "      <th>payment_method_id</th>\n",
       "      <th>payment_plan_days</th>\n",
       "      <th>plan_list_price</th>\n",
       "      <th>actual_amount_paid</th>\n",
       "      <th>is_auto_renew</th>\n",
       "      <th>transaction_date</th>\n",
       "      <th>membership_expire_date</th>\n",
       "      <th>is_cancel</th>\n",
       "    </tr>\n",
       "  </thead>\n",
       "  <tbody>\n",
       "    <tr>\n",
       "      <th>0</th>\n",
       "      <td>YyO+tlZtAXYXoZhNr3Vg3+dfVQvrBVGO8j1mfqe4ZHc=</td>\n",
       "      <td>41</td>\n",
       "      <td>30</td>\n",
       "      <td>129</td>\n",
       "      <td>129</td>\n",
       "      <td>1</td>\n",
       "      <td>20150930</td>\n",
       "      <td>20151101</td>\n",
       "      <td>0</td>\n",
       "    </tr>\n",
       "    <tr>\n",
       "      <th>1</th>\n",
       "      <td>AZtu6Wl0gPojrEQYB8Q3vBSmE2wnZ3hi1FbK1rQQ0A4=</td>\n",
       "      <td>41</td>\n",
       "      <td>30</td>\n",
       "      <td>149</td>\n",
       "      <td>149</td>\n",
       "      <td>1</td>\n",
       "      <td>20150930</td>\n",
       "      <td>20151031</td>\n",
       "      <td>0</td>\n",
       "    </tr>\n",
       "    <tr>\n",
       "      <th>2</th>\n",
       "      <td>UkDFI97Qb6+s2LWcijVVv4rMAsORbVDT2wNXF0aVbns=</td>\n",
       "      <td>41</td>\n",
       "      <td>30</td>\n",
       "      <td>129</td>\n",
       "      <td>129</td>\n",
       "      <td>1</td>\n",
       "      <td>20150930</td>\n",
       "      <td>20160427</td>\n",
       "      <td>0</td>\n",
       "    </tr>\n",
       "    <tr>\n",
       "      <th>3</th>\n",
       "      <td>M1C56ijxozNaGD0t2h68PnH2xtx5iO5iR2MVYQB6nBI=</td>\n",
       "      <td>39</td>\n",
       "      <td>30</td>\n",
       "      <td>149</td>\n",
       "      <td>149</td>\n",
       "      <td>1</td>\n",
       "      <td>20150930</td>\n",
       "      <td>20151128</td>\n",
       "      <td>0</td>\n",
       "    </tr>\n",
       "    <tr>\n",
       "      <th>4</th>\n",
       "      <td>yvj6zyBUaqdbUQSrKsrZ+xNDVM62knauSZJzakS9OW4=</td>\n",
       "      <td>39</td>\n",
       "      <td>30</td>\n",
       "      <td>149</td>\n",
       "      <td>149</td>\n",
       "      <td>1</td>\n",
       "      <td>20150930</td>\n",
       "      <td>20151121</td>\n",
       "      <td>0</td>\n",
       "    </tr>\n",
       "  </tbody>\n",
       "</table>\n",
       "</div>"
      ],
      "text/plain": [
       "                                           msno  payment_method_id  \\\n",
       "0  YyO+tlZtAXYXoZhNr3Vg3+dfVQvrBVGO8j1mfqe4ZHc=                 41   \n",
       "1  AZtu6Wl0gPojrEQYB8Q3vBSmE2wnZ3hi1FbK1rQQ0A4=                 41   \n",
       "2  UkDFI97Qb6+s2LWcijVVv4rMAsORbVDT2wNXF0aVbns=                 41   \n",
       "3  M1C56ijxozNaGD0t2h68PnH2xtx5iO5iR2MVYQB6nBI=                 39   \n",
       "4  yvj6zyBUaqdbUQSrKsrZ+xNDVM62knauSZJzakS9OW4=                 39   \n",
       "\n",
       "   payment_plan_days  plan_list_price  actual_amount_paid  is_auto_renew  \\\n",
       "0                 30              129                 129              1   \n",
       "1                 30              149                 149              1   \n",
       "2                 30              129                 129              1   \n",
       "3                 30              149                 149              1   \n",
       "4                 30              149                 149              1   \n",
       "\n",
       "   transaction_date  membership_expire_date  is_cancel  \n",
       "0          20150930                20151101          0  \n",
       "1          20150930                20151031          0  \n",
       "2          20150930                20160427          0  \n",
       "3          20150930                20151128          0  \n",
       "4          20150930                20151121          0  "
      ]
     },
     "execution_count": 35,
     "metadata": {},
     "output_type": "execute_result"
    }
   ],
   "source": [
    "trans.head()"
   ]
  },
  {
   "cell_type": "code",
   "execution_count": 36,
   "metadata": {},
   "outputs": [],
   "source": [
    "trans = trans.sort_values(['msno','transaction_date','membership_expire_date'])"
   ]
  },
  {
   "cell_type": "code",
   "execution_count": 38,
   "metadata": {},
   "outputs": [],
   "source": [
    "#create an array of all months (from Jan 2016 to Apr 2017).\n",
    "targets = [201601,201602,201603,201604,201605,201606,201607,201608,201609,201610,201611,201612,201701,201702,201703,201704]"
   ]
  },
  {
   "cell_type": "code",
   "execution_count": 39,
   "metadata": {},
   "outputs": [
    {
     "data": {
      "text/plain": [
       "0"
      ]
     },
     "execution_count": 39,
     "metadata": {},
     "output_type": "execute_result"
    }
   ],
   "source": [
    "#drop duplicate transaction records from transaction logs table\n",
    "trans = trans.drop_duplicates()\n",
    "trans.duplicated().sum()"
   ]
  },
  {
   "cell_type": "code",
   "execution_count": 40,
   "metadata": {},
   "outputs": [
    {
     "data": {
      "text/plain": [
       "22975416"
      ]
     },
     "execution_count": 40,
     "metadata": {},
     "output_type": "execute_result"
    }
   ],
   "source": [
    "current_msno = ''\n",
    "#create arrays that store final msnos and their value of is_churn\n",
    "msnos = [[] for i in range(len(targets))]\n",
    "is_churns = [[] for i in range(len(targets))]\n",
    "\n",
    "is_cancels = []\n",
    "transaction_dates = []\n",
    "membership_expire_dates = []\n",
    "\n",
    "total_rows = len(trans['msno'])\n",
    "total_rows"
   ]
  },
  {
   "cell_type": "code",
   "execution_count": 41,
   "metadata": {},
   "outputs": [
    {
     "name": "stderr",
     "output_type": "stream",
     "text": [
      "100%|████████████████████████████████████████████████████████████████████| 22975416/22975416 [52:47<00:00, 7253.57it/s]\n"
     ]
    }
   ],
   "source": [
    "#iterate over each msno\n",
    "for i, row in tqdm(trans.iterrows(), total=total_rows):\n",
    "    msno = row['msno']\n",
    "    transaction_date = row['transaction_date']\n",
    "    membership_expire_date = row['membership_expire_date']\n",
    "    is_cancel = int(row['is_cancel'])\n",
    "    if(current_msno != msno or i == total_rows - 1):\n",
    "        if(current_msno != ''):\n",
    "            \n",
    "            #iterate over all target months for each msno\n",
    "            for z, target in enumerate(targets):\n",
    "                \n",
    "                #start with latest trasaction date\n",
    "                for j in range(len(transaction_dates)-1,-1,-1):\n",
    "                     #store YYYYMM of transaction date\n",
    "                    l = int(transaction_dates[j]/100)\n",
    "                     #store YYYYMM of expiry date\n",
    "                    r = int(membership_expire_dates[j]/100)\n",
    "                    record_index = j\n",
    "\n",
    "                    #check if expiry date falls in target month and user hasn't canceled the membership\n",
    "                    #and if there exists a transaction before (or in) the target month\n",
    "                    if(r == target and is_cancels[j] == 0 and l < target):\n",
    "                        #start with assuming that user churned for given target month\n",
    "                        is_churn = 1\n",
    "                        expired_date = datetime.datetime.strptime(str(membership_expire_dates[j]), \"%Y%m%d\")\n",
    "                        \n",
    "                        #check for next transaction, after given expiry date\n",
    "                        for k in range(j+1,len(transaction_dates)):\n",
    "                            trans_date = datetime.datetime.strptime(str(transaction_dates[k]), \"%Y%m%d\")\n",
    "                            expired_date1 = datetime.datetime.strptime(str(membership_expire_dates[k]), \"%Y%m%d\")\n",
    "                            is_cancel = is_cancels[k]\n",
    "                            dif_d = (trans_date-expired_date).days\n",
    "                            #did user make a transaction within 30 days after expiry date of membership?\n",
    "                            if(dif_d < 30):\n",
    "                                if(is_cancel == 0 and expired_date < expired_date1):\n",
    "                                    is_churn = 0\n",
    "                            else:\n",
    "                                break\n",
    "                        msnos[z].append(current_msno) \n",
    "                        is_churns[z].append(is_churn)   \n",
    "                        break\n",
    "            \n",
    "        transaction_dates = []\n",
    "        membership_expire_dates = []\n",
    "        is_cancels = []\n",
    "    transaction_dates.append(transaction_date)\n",
    "    membership_expire_dates.append(membership_expire_date)\n",
    "    is_cancels.append(is_cancel)\n",
    "    \n",
    "    current_msno = msno\n",
    "\n",
    "#add data into new csv file (one file per target month)\n",
    "for i, target in enumerate(targets):\n",
    "    out = pd.DataFrame()\n",
    "    out['msno'] = msnos[i]\n",
    "    out['is_churn'] = is_churns[i]\n",
    "    out.to_csv('train_v2_final_{}.csv'.format(target), index=False)"
   ]
  }
 ],
 "metadata": {
  "kernelspec": {
   "display_name": "Python 2",
   "language": "python",
   "name": "python2"
  },
  "language_info": {
   "codemirror_mode": {
    "name": "ipython",
    "version": 2
   },
   "file_extension": ".py",
   "mimetype": "text/x-python",
   "name": "python",
   "nbconvert_exporter": "python",
   "pygments_lexer": "ipython2",
   "version": "2.7.15"
  }
 },
 "nbformat": 4,
 "nbformat_minor": 2
}
