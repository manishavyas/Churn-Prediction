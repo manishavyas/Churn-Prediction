{
 "cells": [
  {
   "cell_type": "code",
   "execution_count": 1,
   "metadata": {},
   "outputs": [],
   "source": [
    "import pandas as pd\n",
    "import numpy as np"
   ]
  },
  {
   "cell_type": "code",
   "execution_count": 2,
   "metadata": {},
   "outputs": [],
   "source": [
    "import os"
   ]
  },
  {
   "cell_type": "code",
   "execution_count": 3,
   "metadata": {},
   "outputs": [],
   "source": [
    "PATH = '..\\..'\n",
    "os.listdir(PATH)\n",
    "os.chdir(PATH)"
   ]
  },
  {
   "cell_type": "code",
   "execution_count": 4,
   "metadata": {},
   "outputs": [],
   "source": [
    "files = [\"transactions_log_201702\", \"transactions_log_201701\", \"transactions_log_201612\", \n",
    "         \"transactions_log_201611\", \"transactions_log_201610\", \"transactions_log_201609\"]\n",
    "    \n",
    "#combining transactions log\n",
    "df0 = pd.concat([pd.read_csv(f + '.csv') for f in files])\n",
    "df0 = df0.sort_values(['msno','transaction_date','membership_expire_date'])\n",
    "    \n",
    "#Aggregating transactions log for feature creation\n",
    "#aggregating columns for each msno\n",
    "df1 = df0.groupby('msno').agg({'payment_plan_days':['mean'], 'actual_amount_paid':['mean'], \n",
    "                               'plan_list_price':['mean'],'payment_method_id':'count'}).reset_index()"
   ]
  },
  {
   "cell_type": "code",
   "execution_count": 5,
   "metadata": {},
   "outputs": [],
   "source": [
    "df1.columns = ['msno', 'payment_plan_days_mean','actual_amount_paid_mean','plan_list_price_mean','payment_counts']\n",
    "\n",
    "df1.columns = ['msno'] + [str(col) for col in df1.columns[1:]]"
   ]
  },
  {
   "cell_type": "code",
   "execution_count": 6,
   "metadata": {},
   "outputs": [
    {
     "data": {
      "text/plain": [
       "1520524"
      ]
     },
     "execution_count": 6,
     "metadata": {},
     "output_type": "execute_result"
    }
   ],
   "source": [
    "# length of df1\n",
    "len(df1)"
   ]
  },
  {
   "cell_type": "code",
   "execution_count": 7,
   "metadata": {},
   "outputs": [],
   "source": [
    "df0 = df0.reset_index(drop = True)"
   ]
  },
  {
   "cell_type": "code",
   "execution_count": 8,
   "metadata": {},
   "outputs": [],
   "source": [
    "#Getting the latest record for each msno\n",
    "df2 = df0.loc[df0.groupby('msno').transaction_date.idxmax()].reset_index(drop=True)\n",
    "    \n",
    "df2.columns = ['msno','latest_payment_method_id','latest_payment_plan_days',\n",
    "               'latest_plan_list_price_mean','latest_actual_amount_paid','latest_is_auto_renew',\n",
    "               'latest_trnsaction_date','latest_membership_expire_date','latest_is_cancel']\n",
    "\n",
    "df2.columns = ['msno'] + [str(col) for col in df2.columns[1:]]"
   ]
  },
  {
   "cell_type": "code",
   "execution_count": 9,
   "metadata": {},
   "outputs": [
    {
     "data": {
      "text/plain": [
       "1520524"
      ]
     },
     "execution_count": 9,
     "metadata": {},
     "output_type": "execute_result"
    }
   ],
   "source": [
    "len(df2)"
   ]
  },
  {
   "cell_type": "code",
   "execution_count": 10,
   "metadata": {},
   "outputs": [],
   "source": [
    "#merging the two dataframes\n",
    "df = pd.merge(df1, df2, how='inner', left_on=['msno'], right_on=['msno'])"
   ]
  },
  {
   "cell_type": "code",
   "execution_count": 11,
   "metadata": {},
   "outputs": [
    {
     "data": {
      "text/plain": [
       "1520524"
      ]
     },
     "execution_count": 11,
     "metadata": {},
     "output_type": "execute_result"
    }
   ],
   "source": [
    "len(df)"
   ]
  },
  {
   "cell_type": "code",
   "execution_count": 12,
   "metadata": {},
   "outputs": [],
   "source": [
    "#writing the combined aggregated transaction_logs to csv\n",
    "df.to_csv(\"transaction_logs_initial.csv\", index = False)"
   ]
  }
 ],
 "metadata": {
  "kernelspec": {
   "display_name": "Python 3",
   "language": "python",
   "name": "python3"
  },
  "language_info": {
   "codemirror_mode": {
    "name": "ipython",
    "version": 3
   },
   "file_extension": ".py",
   "mimetype": "text/x-python",
   "name": "python",
   "nbconvert_exporter": "python",
   "pygments_lexer": "ipython3",
   "version": "3.6.7"
  }
 },
 "nbformat": 4,
 "nbformat_minor": 2
}
