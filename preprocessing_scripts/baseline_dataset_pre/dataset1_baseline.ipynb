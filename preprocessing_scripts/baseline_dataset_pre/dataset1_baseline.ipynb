{
 "cells": [
  {
   "cell_type": "code",
   "execution_count": null,
   "metadata": {},
   "outputs": [],
   "source": [
    "import pandas as pd\n",
    "\n",
    "def main():\n",
    "    \n",
    "    user_logs = pd.read_csv(\"./User Logs/user_logs_initial1.csv\")\n",
    "    \n",
    "    user_target_expiration = pd.read_csv(\"./labeled Data/train_v2_final_201702.csv\")\n",
    "    \n",
    "    transaction_logs = pd.read_csv(\"./Transactions Logs/transaction_logs_initial1.csv\")\n",
    "    \n",
    "    member_logs = pd.read_csv(\"members_pre.csv\")\n",
    "    \n",
    "    df1 = pd.merge(user_logs, user_target_expiration, how='inner', left_on=['msno'], right_on=['msno'])\n",
    "    \n",
    "    df2 = pd.merge(df1, transaction_logs, how='inner', left_on=['msno'], right_on=['msno'])\n",
    "    \n",
    "    df = pd.merge(df2,member_logs, how='inner',left_on=['msno'],right_on=['msno'])\n",
    "    \n",
    "    df.to_csv(\"dataset1_baseline.csv\")\n",
    "\n",
    "if __name__ == '__main__':\n",
    "    main()"
   ]
  }
 ],
 "metadata": {
  "kernelspec": {
   "display_name": "Python 3",
   "language": "python",
   "name": "python3"
  },
  "language_info": {
   "codemirror_mode": {
    "name": "ipython",
    "version": 3
   },
   "file_extension": ".py",
   "mimetype": "text/x-python",
   "name": "python",
   "nbconvert_exporter": "python",
   "pygments_lexer": "ipython3",
   "version": "3.6.2"
  }
 },
 "nbformat": 4,
 "nbformat_minor": 2
}
