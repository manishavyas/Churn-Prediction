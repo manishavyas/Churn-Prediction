{
 "cells": [
  {
   "cell_type": "code",
   "execution_count": 1,
   "metadata": {
    "collapsed": true
   },
   "outputs": [],
   "source": [
    "#Import required libraries\n",
    "import numpy as np\n",
    "import pandas as pd\n",
    "\n",
    "# Read the transaction_log file\n",
    "transactions_1 = pd.read_csv('transactions.csv')\n",
    "transactions_2 = pd.read_csv('transactions_v2.csv')\n",
    "transactions = transactions_1.append(transactions_2).reset_index(drop=True)\n",
    "transactions = transactions.loc[transactions['transaction_date'] >= 20170101]\n",
    "transactions = transactions.sort_values(['msno','transaction_date','membership_expire_date'])\n",
    "\n",
    "#transactions.info()\n",
    "\n",
    "# Aggregate columns\n",
    "Avg_payment_plan_days = transactions.groupby('msno', as_index=False)['payment_plan_days'].mean().reset_index(drop=True)\n",
    "Avg_actual_amount_paid = transactions.groupby('msno', as_index=False)['actual_amount_paid'].mean().reset_index(drop=True)\n",
    "Avg_plan_list_price = transactions.groupby('msno',as_index=False)['plan_list_price'].mean().reset_index(drop=True)\n",
    "Number_of_transaction = transactions.groupby('msno',as_index=False)['payment_method_id'].count()\n",
    "Number_of_transaction.rename(index=str,columns={'payment_method_id':'total_transactions'})\n",
    "\n",
    "# Extracting the most recent transaction log for a user\n",
    "transaction_intermediate = transactions.loc[transactions.groupby('msno').transaction_date.idxmax()].reset_index(drop=True)\n",
    "\n",
    "# Combine columns\n",
    "transaction_intermediate1 = pd.merge(transaction_intermediate,Avg_payment_plan_days,on='msno')\n",
    "transaction_intermediate2 = pd.merge(transaction_intermediate1,Avg_plan_list_price,on='msno')\n",
    "transaction_intermediate3 = pd.merge(transaction_intermediate2,Avg_actual_amount_paid,on='msno')\n",
    "transaction_final = pd.merge(transaction_intermediate3,Number_of_transaction,on='msno')\n",
    "\n",
    "# Rename columns\n",
    "transaction_final = transaction_final.rename(index=str,columns={'payment_plan_days_y':'Avg_payment_plan_days','plan_list_price_y':'Avg_plan_list_price','actual_amount_paid_y':'Avg_actual_amount_paid','payment_plan_days_x':'latest_payment_plan_days','plan_list_price_x':'latest_plan_list_price','actual_amount_paid_x':'latest_actual_amount_paid','transaction_date':'latest_transaction_date','membership_expire_date':'latest_membership_expire_date','is_cancel':'latest_is_cancel','is_auto_renew':'latest_is_auto_renew'})\n",
    "\n",
    "transaction_final = transaction_final.reset_index(drop=True)\n",
    "\n",
    "# Outputting results to a csv file\n",
    "transaction_final.to_csv('transactions_log_initial.csv')"
   ]
  }
 ],
 "metadata": {
  "kernelspec": {
   "display_name": "Python 3",
   "language": "python",
   "name": "python3"
  },
  "language_info": {
   "codemirror_mode": {
    "name": "ipython",
    "version": 3
   },
   "file_extension": ".py",
   "mimetype": "text/x-python",
   "name": "python",
   "nbconvert_exporter": "python",
   "pygments_lexer": "ipython3",
   "version": "3.6.2"
  }
 },
 "nbformat": 4,
 "nbformat_minor": 2
}
