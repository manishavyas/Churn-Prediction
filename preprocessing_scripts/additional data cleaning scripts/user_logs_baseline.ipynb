{
 "cells": [
  {
   "cell_type": "code",
   "execution_count": null,
   "metadata": {},
   "outputs": [],
   "source": [
    "import pandas as pd\n",
    "\n",
    "def main():\n",
    "    \n",
    "    # Define the months for aggregation\n",
    "    files = [\"user_logs_201702\",\"user_logs_201701\",\"user_logs_201612\",\"user_logs_201611\",\"user_logs_201610\",\"user_logs_201609\"]\n",
    "    \n",
    "    # combining user logs\n",
    "    df = pd.concat([pd.read_csv(f + '.csv') for f in files])\n",
    "    \n",
    "    # aggregate and calculate the mean, standard deviation, and count\n",
    "\n",
    "    df = df.groupby('msno').agg({'num_25':['mean','std'], 'num_50':['mean','std'], \n",
    "                                    'num_75':['mean','std'], 'num_985':['mean','std'], \n",
    "                                    'num_100':['mean','std'], 'num_unq':['mean','std'], \n",
    "                                    'total_secs':['mean','std'], 'date':'count'}).reset_index()\n",
    "    \n",
    "    df.columns = ['msno', 'num_25_mean', 'num_25_std', 'num_50_mean','num_50_std', 'num_75_mean',\n",
    "                  'num_75_std', 'num_985_mean','num_985_std', 'num_100_mean', 'num_100_std','num_unq_mean', \n",
    "                      'num_unq_std', 'total_secs_mean', 'total_secs_std', 'count']\n",
    "    \n",
    "    # rename the columns\n",
    "    df.columns = ['msno'] + [str(col) for col in df.columns[1:]]                          \n",
    "    \n",
    "    #writing the combined aggregated user_logs to csv\n",
    "    df.to_csv(\"user_logs_initial1.csv\",index=False)\n",
    "\n",
    "\n",
    "if __name__ == '__main__':\n",
    "    main()"
   ]
  },
  {
   "cell_type": "code",
   "execution_count": null,
   "metadata": {
    "collapsed": true
   },
   "outputs": [],
   "source": []
  }
 ],
 "metadata": {
  "kernelspec": {
   "display_name": "Python 3",
   "language": "python",
   "name": "python3"
  },
  "language_info": {
   "codemirror_mode": {
    "name": "ipython",
    "version": 3
   },
   "file_extension": ".py",
   "mimetype": "text/x-python",
   "name": "python",
   "nbconvert_exporter": "python",
   "pygments_lexer": "ipython3",
   "version": "3.6.2"
  }
 },
 "nbformat": 4,
 "nbformat_minor": 2
}
