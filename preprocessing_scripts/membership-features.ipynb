{
 "cells": [
  {
   "cell_type": "code",
   "execution_count": 1,
   "metadata": {
    "collapsed": true
   },
   "outputs": [],
   "source": [
    "# import libraries\n",
    "\n",
    "import numpy as np\n",
    "import pandas as pd\n",
    "import datetime\n",
    "\n",
    "# progress bar tool\n",
    "\n",
    "from tqdm import tqdm"
   ]
  },
  {
   "cell_type": "code",
   "execution_count": 2,
   "metadata": {
    "collapsed": true
   },
   "outputs": [],
   "source": [
    "# merge the two transactions files\n",
    "\n",
    "transactions_v1 = pd.read_csv('transactions.csv')\n",
    "transactions_v2 = pd.read_csv('transactions_v2.csv')\n",
    "\n",
    "# merge with reset index\n",
    "\n",
    "transactions = transactions_v1.append(transactions_v2).reset_index(drop = True)\n",
    "\n",
    "# sort the transactions by 'msno' and 'transaction_date'\n",
    "\n",
    "transactions = transactions.sort_values(['msno', 'transaction_date'])\n",
    "\n",
    "current_msno = ''\n",
    "\n",
    "# create the following month-wise, year-wise columns along with columns for 'cancel_count', 'cutoff_count', \n",
    "# 'transaction_count', 'combo_days'\n",
    "\n",
    "cols_2015 = ['2015{}'.format(str(i+1).zfill(2)) for i in range(12)]\n",
    "cols_2016 = ['2016{}'.format(str(i+1).zfill(2)) for i in range(12)]\n",
    "cols_2017 = ['2017{}'.format(str(i+1).zfill(2)) for i in range(3)]\n",
    "\n",
    "cols = ['msno'] + cols_2015 + cols_2016 + cols_2017 + ['cancel_count', 'cutoff_count', 'transaction_count', 'combo_days']\n",
    "\n",
    "cols_dict = {}"
   ]
  },
  {
   "cell_type": "code",
   "execution_count": 3,
   "metadata": {},
   "outputs": [
    {
     "data": {
      "text/plain": [
       "['msno',\n",
       " '201501',\n",
       " '201502',\n",
       " '201503',\n",
       " '201504',\n",
       " '201505',\n",
       " '201506',\n",
       " '201507',\n",
       " '201508',\n",
       " '201509',\n",
       " '201510',\n",
       " '201511',\n",
       " '201512',\n",
       " '201601',\n",
       " '201602',\n",
       " '201603',\n",
       " '201604',\n",
       " '201605',\n",
       " '201606',\n",
       " '201607',\n",
       " '201608',\n",
       " '201609',\n",
       " '201610',\n",
       " '201611',\n",
       " '201612',\n",
       " '201701',\n",
       " '201702',\n",
       " '201703',\n",
       " 'cancel_count',\n",
       " 'cutoff_count',\n",
       " 'transaction_count',\n",
       " 'combo_days']"
      ]
     },
     "execution_count": 3,
     "metadata": {},
     "output_type": "execute_result"
    }
   ],
   "source": [
    "cols"
   ]
  },
  {
   "cell_type": "code",
   "execution_count": 4,
   "metadata": {},
   "outputs": [
    {
     "name": "stdout",
     "output_type": "stream",
     "text": [
      "{'msno': 0, '201501': 1, '201502': 2, '201503': 3, '201504': 4, '201505': 5, '201506': 6, '201507': 7, '201508': 8, '201509': 9, '201510': 10, '201511': 11, '201512': 12, '201601': 13, '201602': 14, '201603': 15, '201604': 16, '201605': 17, '201606': 18, '201607': 19, '201608': 20, '201609': 21, '201610': 22, '201611': 23, '201612': 24, '201701': 25, '201702': 26, '201703': 27, 'cancel_count': 28, 'cutoff_count': 29, 'transaction_count': 30, 'combo_days': 31}\n"
     ]
    }
   ],
   "source": [
    "# create a reverse dictionary for the 'cols'\n",
    "\n",
    "for i, v in enumerate(cols):\n",
    "    cols_dict[v] = i\n",
    "    \n",
    "print(cols_dict)                                        # print 'cols_dict'\n",
    "\n",
    "membership_records = [[] for i in range(len(cols))]\n",
    "\n",
    "transaction_dates = []\n",
    "\n",
    "membership_expire_dates = []\n",
    "\n",
    "is_cancels = []\n",
    "\n",
    "total_rows = len(transactions['msno'])                  # total rows in the 'transactions' dictionary"
   ]
  },
  {
   "cell_type": "code",
   "execution_count": 5,
   "metadata": {},
   "outputs": [
    {
     "name": "stderr",
     "output_type": "stream",
     "text": [
      "100%|███████████████████████████████████████████████████████████████████| 22978755/22978755 [31:03<00:00, 12332.61it/s]\n"
     ]
    }
   ],
   "source": [
    "for i, row in tqdm(transactions.iterrows(), total = total_rows):\n",
    "    \n",
    "    msno = row['msno']                                                     # 'msno'\n",
    "    transaction_date = row['transaction_date']                             # 'transaction_date'\n",
    "    is_cancel = int(row['is_cancel'])                                      # 'is_cancel'\n",
    "    membership_expire_date = row['membership_expire_date']                 # 'membership_expire_date'\n",
    "    \n",
    "    # current_msno is ''\n",
    "    \n",
    "    if(current_msno != msno or i == total_rows - 1):\n",
    "        \n",
    "        if(current_msno != ''):\n",
    "            \n",
    "            cutoff_count = 0\n",
    "            cancel_count = sum(is_cancels)\n",
    "            transaction_count = len(transaction_dates)\n",
    "            \n",
    "            # membership_record[-1] is number of consecutive current member\n",
    "            # membership_record[-2] is transaction_count\n",
    "            # membership_record[-3] is cutoff_count\n",
    "            # membership_record[0] is msno\n",
    "            \n",
    "            membership_record = [-1 for j in range(len(cols))]\n",
    "            \n",
    "            left = int(transaction_dates[0])\n",
    "            right = int(membership_expire_dates[0])\n",
    "            \n",
    "            for j in range(1, len(transaction_dates)):\n",
    "                \n",
    "                l = int(transaction_dates[j])\n",
    "                r = int(membership_expire_dates[j])\n",
    "                \n",
    "                if(r < right):\n",
    "                # update the expiry date, if unsubscribed\n",
    "                \n",
    "                    right = r\n",
    "                    \n",
    "                elif(l > right):\n",
    "                # account without subscription for days after the expiry date\n",
    "                # save the current membership status for that month\n",
    "                \n",
    "                    cutoff_count += 1\n",
    "                    start = int(left / 100)                    # e.g. 20160223 / 100 = 201602\n",
    "                    end = int(right / 100)                     # e.g. 20160223 / 100 = 201602\n",
    "                    \n",
    "                    for j in range(start, end + 1):\n",
    "                        \n",
    "                        if(j % 100 <= 12):\n",
    "                            \n",
    "                            if(str(j) in cols_dict):\n",
    "                                \n",
    "                                membership_record[cols_dict[str(j)]] = 1\n",
    "                                \n",
    "                    left = l\n",
    "                    right = r\n",
    "                    \n",
    "                else:\n",
    "                # renewal before expiration, extension of the membership\n",
    "                # start date remains the same\n",
    "                \n",
    "                    right = r\n",
    "                    \n",
    "            # store the final membership status\n",
    "            \n",
    "            start = int(left / 100)                           # e.g. 20160223 / 100 = 201602\n",
    "            end = int(right / 100)                            # e.g. 20160223 / 100 = 201602\n",
    "            \n",
    "            for j in range(start, end + 1):\n",
    "                \n",
    "                if(j % 100 <= 12):\n",
    "                    \n",
    "                    if(str(j) in cols_dict):\n",
    "                        \n",
    "                        membership_record[cols_dict[str(j)]] = 1\n",
    "                        \n",
    "            start_date = datetime.datetime.strptime(str(left), \"%Y%m%d\")\n",
    "            end_date = datetime.datetime.strptime(str(right), \"%Y%m%d\")\n",
    "            \n",
    "            # update the membership features for the current user\n",
    "            \n",
    "            membership_record[0] = current_msno\n",
    "            membership_record[-1] = (end_date - start_date).days\n",
    "            membership_record[-2] = transaction_count\n",
    "            membership_record[-3] = cutoff_count\n",
    "            membership_record[-4] = cancel_count\n",
    "            \n",
    "            # append the features\n",
    "            \n",
    "            for j in range(len(cols)):\n",
    "                \n",
    "                membership_records[j].append(membership_record[j])\n",
    "                \n",
    "        transaction_dates = []\n",
    "        membership_expire_dates = []\n",
    "        is_cancels = []\n",
    "        \n",
    "    # append the column values\n",
    "    \n",
    "    transaction_dates.append(transaction_date)\n",
    "    membership_expire_dates.append(membership_expire_date)\n",
    "    is_cancels.append(is_cancel)\n",
    "    \n",
    "    # assign 'current_msno' as 'msno' for the next iteration\n",
    "    current_msno = msno"
   ]
  },
  {
   "cell_type": "code",
   "execution_count": 6,
   "metadata": {
    "collapsed": true
   },
   "outputs": [],
   "source": [
    "# create the output file\n",
    "\n",
    "out = pd.DataFrame()\n",
    "\n",
    "for i, v in enumerate(cols):\n",
    "    out[v] = membership_records[i]\n",
    "    \n",
    "out.to_csv('membership_records.csv', index = False)"
   ]
  }
 ],
 "metadata": {
  "kernelspec": {
   "display_name": "Python 3",
   "language": "python",
   "name": "python3"
  },
  "language_info": {
   "codemirror_mode": {
    "name": "ipython",
    "version": 3
   },
   "file_extension": ".py",
   "mimetype": "text/x-python",
   "name": "python",
   "nbconvert_exporter": "python",
   "pygments_lexer": "ipython3",
   "version": "3.6.2"
  }
 },
 "nbformat": 4,
 "nbformat_minor": 2
}
