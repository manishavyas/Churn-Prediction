{
 "cells": [
  {
   "cell_type": "code",
   "execution_count": 1,
   "metadata": {},
   "outputs": [],
   "source": [
    "# import libraries\n",
    "\n",
    "import numpy as np\n",
    "import pandas as pd\n",
    "import datetime\n",
    "\n",
    "from tqdm import tqdm"
   ]
  },
  {
   "cell_type": "code",
   "execution_count": 2,
   "metadata": {
    "collapsed": true
   },
   "outputs": [],
   "source": [
    "# create an iterable dataframe with the chunksize as 10 million rows\n",
    "\n",
    "iterable_df = pd.read_csv('user_logs.csv', low_memory = False, iterator = True, chunksize = 10000000)\n",
    "\n",
    "file = {}"
   ]
  },
  {
   "cell_type": "code",
   "execution_count": 3,
   "metadata": {},
   "outputs": [
    {
     "name": "stderr",
     "output_type": "stream",
     "text": [
      "100%|██████████| 10000000/10000000 [19:41<00:00, 8462.18it/s]\n",
      "100%|██████████| 10000000/10000000 [19:25<00:00, 8578.87it/s]\n",
      "100%|██████████| 10000000/10000000 [19:46<00:00, 8426.60it/s]\n",
      "100%|██████████| 10000000/10000000 [21:19<00:00, 7813.04it/s]\n",
      "100%|██████████| 10000000/10000000 [19:12<00:00, 8677.78it/s]\n",
      "100%|██████████| 10000000/10000000 [18:31<00:00, 8994.02it/s]\n",
      "100%|██████████| 10000000/10000000 [35:45<00:00, 4659.92it/s]\n",
      "100%|██████████| 10000000/10000000 [18:36<00:00, 8959.70it/s]\n",
      "100%|██████████| 10000000/10000000 [18:42<00:00, 8909.65it/s]\n",
      "100%|██████████| 10000000/10000000 [18:42<00:00, 8906.62it/s]\n",
      "100%|██████████| 10000000/10000000 [18:34<00:00, 8974.62it/s]\n",
      "100%|██████████| 10000000/10000000 [18:39<00:00, 8933.43it/s]\n",
      "100%|██████████| 10000000/10000000 [18:39<00:00, 8932.54it/s]\n",
      "100%|██████████| 10000000/10000000 [18:43<00:00, 8896.82it/s]\n",
      "100%|██████████| 10000000/10000000 [18:43<00:00, 8900.15it/s]\n",
      "100%|██████████| 10000000/10000000 [18:43<00:00, 8901.62it/s]\n",
      "100%|██████████| 10000000/10000000 [18:47<00:00, 8866.10it/s]\n",
      "100%|██████████| 10000000/10000000 [18:48<00:00, 8862.17it/s]\n",
      "100%|██████████| 10000000/10000000 [18:42<00:00, 8907.79it/s]\n",
      "100%|██████████| 10000000/10000000 [18:42<00:00, 8911.20it/s]\n",
      "100%|██████████| 10000000/10000000 [18:51<00:00, 8834.20it/s]\n",
      "100%|██████████| 10000000/10000000 [19:04<00:00, 8735.07it/s]\n",
      "100%|██████████| 10000000/10000000 [18:52<00:00, 8830.40it/s]\n",
      "100%|██████████| 10000000/10000000 [18:57<00:00, 8791.88it/s]\n",
      "100%|██████████| 10000000/10000000 [18:51<00:00, 8838.37it/s]\n",
      "100%|██████████| 10000000/10000000 [18:54<00:00, 8816.35it/s]\n",
      "100%|██████████| 10000000/10000000 [18:52<00:00, 8827.81it/s]\n",
      "100%|██████████| 10000000/10000000 [19:26<00:00, 8569.22it/s]\n",
      "100%|██████████| 10000000/10000000 [19:27<00:00, 8566.52it/s]\n",
      "100%|██████████| 10000000/10000000 [19:22<00:00, 8601.83it/s]\n",
      "100%|██████████| 10000000/10000000 [19:26<00:00, 8572.67it/s]\n",
      "100%|██████████| 10000000/10000000 [19:28<00:00, 8559.21it/s]\n",
      "100%|██████████| 10000000/10000000 [19:32<00:00, 8526.89it/s]\n",
      "100%|██████████| 10000000/10000000 [19:35<00:00, 8505.83it/s]\n",
      "100%|██████████| 10000000/10000000 [19:30<00:00, 8545.10it/s]\n",
      "100%|██████████| 10000000/10000000 [19:29<00:00, 8553.96it/s]\n",
      "100%|██████████| 10000000/10000000 [19:42<00:00, 8458.05it/s]\n",
      "100%|██████████| 10000000/10000000 [19:39<00:00, 8478.45it/s]\n",
      "100%|██████████| 10000000/10000000 [19:38<00:00, 8483.75it/s]\n",
      "100%|██████████| 2106543/2106543 [04:09<00:00, 8434.75it/s]\n"
     ]
    }
   ],
   "source": [
    "# iterate over the 'user_logs.csv' chunk-wise\n",
    "\n",
    "for df in iterable_df:\n",
    "    \n",
    "    # iterate over the dataframe rows as an (index, pandas.series) pair\n",
    "    \n",
    "    for i, row in tqdm(df.iterrows(), total = len(df)):\n",
    "        \n",
    "        \n",
    "        # convert the data into string\n",
    "        \n",
    "        out = []\n",
    "        out.append(str(row['msno']))\n",
    "        out.append(str(row['date']))\n",
    "        out.append(str(row['num_25']))\n",
    "        out.append(str(row['num_50']))\n",
    "        out.append(str(row['num_75']))\n",
    "        out.append(str(row['num_985']))\n",
    "        out.append(str(row['num_100']))\n",
    "        out.append(str(row['num_unq']))\n",
    "        out.append(str(row['total_secs']))\n",
    "        \n",
    "        # to separate the user logs month-wise, year-wise\n",
    "        \n",
    "        month = str(int(int(row['date']) / 100))\n",
    "        \n",
    "        # create new .csv file with headers\n",
    "        \n",
    "        if(month not in file):\n",
    "            \n",
    "            new_csv = open('user_logs_{}.csv'.format(month), mode = 'w+', encoding = 'utf8')\n",
    "            \n",
    "            new_csv.write('msno,date,num_25,num_50,num_75,num_985,num_100,num_unq,total_secs' + '\\n')\n",
    "            \n",
    "            file[month] = new_csv\n",
    "            \n",
    "        # write data (comma-separated) into the file\n",
    "            \n",
    "        file[month].write(','.join(out) + '\\n')"
   ]
  }
 ],
 "metadata": {
  "kernelspec": {
   "display_name": "Python 3",
   "language": "python",
   "name": "python3"
  },
  "language_info": {
   "codemirror_mode": {
    "name": "ipython",
    "version": 3
   },
   "file_extension": ".py",
   "mimetype": "text/x-python",
   "name": "python",
   "nbconvert_exporter": "python",
   "pygments_lexer": "ipython3",
   "version": "3.7.0"
  }
 },
 "nbformat": 4,
 "nbformat_minor": 2
}
