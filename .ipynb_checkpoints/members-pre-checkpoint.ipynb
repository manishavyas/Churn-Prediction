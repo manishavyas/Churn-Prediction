{
 "cells": [
  {
   "cell_type": "code",
   "execution_count": 1,
   "metadata": {
    "collapsed": true
   },
   "outputs": [],
   "source": [
    "# import required libraries\n",
    "\n",
    "import numpy as np\n",
    "import pandas as pd\n",
    "from datetime import datetime"
   ]
  },
  {
   "cell_type": "code",
   "execution_count": 2,
   "metadata": {
    "collapsed": true
   },
   "outputs": [],
   "source": [
    "# setup\n",
    "\n",
    "members = pd.read_csv('members_v3.csv')\n",
    "\n",
    "ages = []\n",
    "genders = []"
   ]
  },
  {
   "cell_type": "code",
   "execution_count": 3,
   "metadata": {
    "collapsed": true
   },
   "outputs": [],
   "source": [
    "# prepraing the 'members' data\n",
    "\n",
    "for i, row in members.iterrows():\n",
    "    \n",
    "    gender = row['gender']\n",
    "    age = int(row['bd'])\n",
    "    \n",
    "    if(gender == None or gender == ''):\n",
    "        gender = -1\n",
    "    elif(gender == 'male'):\n",
    "        gender = 1\n",
    "    elif(gender == 'female'):\n",
    "        gender = 2\n",
    "    else:\n",
    "        gender = 3\n",
    "        \n",
    "    if(age > 100 or age < 8):             # 8 over here is arbitrary\n",
    "        age = -1\n",
    "        \n",
    "    ages.append(age)\n",
    "    genders.append(gender)"
   ]
  },
  {
   "cell_type": "code",
   "execution_count": 5,
   "metadata": {},
   "outputs": [],
   "source": [
    "# preparing the output dataframe\n",
    "\n",
    "members_pre = pd.DataFrame({\n",
    "    'msno': members['msno'],\n",
    "    'city': members['city'],\n",
    "    'registered_via': members['registered_via']\n",
    "})\n",
    "\n",
    "# extracting date features based on the string positions\n",
    "\n",
    "members_pre['registration_year'] = members['registration_init_time'].apply(lambda x: int(str(x)[0:4]))\n",
    "members_pre['registration_month'] = members['registration_init_time'].apply(lambda x: int(str(x)[4:6]))\n",
    "members_pre['registration_date'] = members['registration_init_time'].apply(lambda x: int(str(x)[6:8]))\n",
    "\n",
    "members_pre['ages'] = ages\n",
    "members_pre['genders'] = genders\n",
    "\n",
    "# output\n",
    "\n",
    "members_pre.to_csv('members_pre.csv', index = False)"
   ]
  }
 ],
 "metadata": {
  "kernelspec": {
   "display_name": "Python 3",
   "language": "python",
   "name": "python3"
  },
  "language_info": {
   "codemirror_mode": {
    "name": "ipython",
    "version": 3
   },
   "file_extension": ".py",
   "mimetype": "text/x-python",
   "name": "python",
   "nbconvert_exporter": "python",
   "pygments_lexer": "ipython3",
   "version": "3.6.2"
  }
 },
 "nbformat": 4,
 "nbformat_minor": 2
}
