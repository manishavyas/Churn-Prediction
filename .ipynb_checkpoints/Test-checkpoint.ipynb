{
 "cells": [
  {
   "cell_type": "code",
   "execution_count": null,
   "metadata": {},
   "outputs": [],
   "source": [
    "import pandas as pd"
   ]
  },
  {
   "cell_type": "code",
   "execution_count": null,
   "metadata": {},
   "outputs": [],
   "source": [
    "files = ['_201702', '_201701', '_201612', '_201611', '_201610','_201609']"
   ]
  },
  {
   "cell_type": "code",
   "execution_count": null,
   "metadata": {},
   "outputs": [],
   "source": [
    "user_logs, extension = 'user_logs', '.csv'\n",
    "\n",
    "table = pd.DataFrame(index = ['msno'])\n",
    "\n",
    "for i in files:\n",
    "    \n",
    "    df = pd.read_csv(user_logs + i + extension)\n",
    "    \n",
    "    print(df.head())\n",
    "    \n",
    "    df = df.groupby('msno').agg({'num_25':['mean','std'], 'num_50':['mean','std'], \n",
    "                                 'num_75':['mean','std'], 'num_985':['mean','std'], \n",
    "                                 'num_100':['mean','std'], 'num_unq':['mean','std'], \n",
    "                                 'total_secs':['mean','std'], 'date':'count'}).reset_index()\n",
    "    \n",
    "    df.columns = ['msno', 'num_25_mean', 'num_25_std', 'num_50_mean', \n",
    "                  'num_50_std', 'num_75_mean', 'num_75_std', 'num_985_mean',\n",
    "                  'num_985_std', 'num_100_mean', 'num_100_std', 'num_unq_mean',\n",
    "                  'num_unq_std', 'total_secs_mean', 'total_secs_std', 'count']\n",
    "    \n",
    "    df.columns = ['msno'] + [str(col) + i for col in df.columns[1:]]\n",
    "    \n",
    "    df.fillna(0, inplace = True)\n",
    "    \n",
    "    table = table.join(df.set_index('msno'), how = 'outer')"
   ]
  },
  {
   "cell_type": "code",
   "execution_count": null,
   "metadata": {},
   "outputs": [],
   "source": [
    "table"
   ]
  },
  {
   "cell_type": "code",
   "execution_count": null,
   "metadata": {},
   "outputs": [],
   "source": [
    "table.head()"
   ]
  },
  {
   "cell_type": "code",
   "execution_count": null,
   "metadata": {},
   "outputs": [],
   "source": [
    "table.info()"
   ]
  },
  {
   "cell_type": "code",
   "execution_count": null,
   "metadata": {},
   "outputs": [],
   "source": [
    "table.index"
   ]
  },
  {
   "cell_type": "code",
   "execution_count": null,
   "metadata": {},
   "outputs": [],
   "source": [
    "table.fillna(0, inplace = True)"
   ]
  },
  {
   "cell_type": "code",
   "execution_count": null,
   "metadata": {},
   "outputs": [],
   "source": [
    "table"
   ]
  },
  {
   "cell_type": "code",
   "execution_count": null,
   "metadata": {},
   "outputs": [],
   "source": [
    "table.to_csv('test.csv')"
   ]
  },
  {
   "cell_type": "code",
   "execution_count": null,
   "metadata": {},
   "outputs": [],
   "source": []
  }
 ],
 "metadata": {
  "kernelspec": {
   "display_name": "Python 3",
   "language": "python",
   "name": "python3"
  },
  "language_info": {
   "codemirror_mode": {
    "name": "ipython",
    "version": 3
   },
   "file_extension": ".py",
   "mimetype": "text/x-python",
   "name": "python",
   "nbconvert_exporter": "python",
   "pygments_lexer": "ipython3",
   "version": "3.7.0"
  }
 },
 "nbformat": 4,
 "nbformat_minor": 2
}
